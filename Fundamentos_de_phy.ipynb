{
  "nbformat": 4,
  "nbformat_minor": 0,
  "metadata": {
    "colab": {
      "name": "Fundamentos de phy.ipynb",
      "provenance": [],
      "collapsed_sections": [],
      "authorship_tag": "ABX9TyOzUO1x1iNhlEh3QJu9SB3Z",
      "include_colab_link": true
    },
    "kernelspec": {
      "name": "python3",
      "display_name": "Python 3"
    },
    "language_info": {
      "name": "python"
    }
  },
  "cells": [
    {
      "cell_type": "markdown",
      "metadata": {
        "id": "view-in-github",
        "colab_type": "text"
      },
      "source": [
        "<a href=\"https://colab.research.google.com/github/camposk592/Fundamentos-de-Phython/blob/main/Fundamentos_de_phy.ipynb\" target=\"_parent\"><img src=\"https://colab.research.google.com/assets/colab-badge.svg\" alt=\"Open In Colab\"/></a>"
      ]
    },
    {
      "cell_type": "code",
      "metadata": {
        "colab": {
          "base_uri": "https://localhost:8080/"
        },
        "id": "QtC10F0S8KMh",
        "outputId": "74c77b59-4667-44da-af0b-22de46746286"
      },
      "source": [
        "saludo = \"hola\"\n",
        "print(saludo+\" Mundo\")\n",
        "print (saludo[1])"
      ],
      "execution_count": null,
      "outputs": [
        {
          "output_type": "stream",
          "text": [
            "hola Mundo\n",
            "o\n"
          ],
          "name": "stdout"
        }
      ]
    },
    {
      "cell_type": "code",
      "metadata": {
        "colab": {
          "base_uri": "https://localhost:8080/",
          "height": 231
        },
        "id": "WzQUXW7cA7Em",
        "outputId": "704a04c8-d451-4d29-8bcb-bb45be4fa342"
      },
      "source": [
        "def convertirFC(f):\n",
        "  c = (f-32)*5/9\n",
        "  return c\n",
        "\n",
        "f = int(input(\"F: \"))\n",
        "print(\"F: \", str(f), \" a celsius: \", str( convertirFC(f) ))"
      ],
      "execution_count": null,
      "outputs": [
        {
          "output_type": "stream",
          "text": [
            "F: 35.5\n"
          ],
          "name": "stdout"
        },
        {
          "output_type": "error",
          "ename": "ValueError",
          "evalue": "ignored",
          "traceback": [
            "\u001b[0;31m---------------------------------------------------------------------------\u001b[0m",
            "\u001b[0;31mValueError\u001b[0m                                Traceback (most recent call last)",
            "\u001b[0;32m<ipython-input-22-89f4b9c3ccf3>\u001b[0m in \u001b[0;36m<module>\u001b[0;34m()\u001b[0m\n\u001b[1;32m      3\u001b[0m   \u001b[0;32mreturn\u001b[0m \u001b[0mc\u001b[0m\u001b[0;34m\u001b[0m\u001b[0;34m\u001b[0m\u001b[0m\n\u001b[1;32m      4\u001b[0m \u001b[0;34m\u001b[0m\u001b[0m\n\u001b[0;32m----> 5\u001b[0;31m \u001b[0mf\u001b[0m \u001b[0;34m=\u001b[0m \u001b[0mint\u001b[0m\u001b[0;34m(\u001b[0m\u001b[0minput\u001b[0m\u001b[0;34m(\u001b[0m\u001b[0;34m\"F: \"\u001b[0m\u001b[0;34m)\u001b[0m\u001b[0;34m)\u001b[0m\u001b[0;34m\u001b[0m\u001b[0;34m\u001b[0m\u001b[0m\n\u001b[0m\u001b[1;32m      6\u001b[0m \u001b[0mprint\u001b[0m\u001b[0;34m(\u001b[0m\u001b[0;34m\"F: \"\u001b[0m\u001b[0;34m,\u001b[0m \u001b[0mstr\u001b[0m\u001b[0;34m(\u001b[0m\u001b[0mf\u001b[0m\u001b[0;34m)\u001b[0m\u001b[0;34m,\u001b[0m \u001b[0;34m\" a celsius: \"\u001b[0m\u001b[0;34m,\u001b[0m \u001b[0mstr\u001b[0m\u001b[0;34m(\u001b[0m \u001b[0mconvertirFC\u001b[0m\u001b[0;34m(\u001b[0m\u001b[0mf\u001b[0m\u001b[0;34m)\u001b[0m \u001b[0;34m)\u001b[0m\u001b[0;34m)\u001b[0m\u001b[0;34m\u001b[0m\u001b[0;34m\u001b[0m\u001b[0m\n",
            "\u001b[0;31mValueError\u001b[0m: invalid literal for int() with base 10: '35.5'"
          ]
        }
      ]
    },
    {
      "cell_type": "code",
      "metadata": {
        "colab": {
          "base_uri": "https://localhost:8080/"
        },
        "id": "5-M97V0SBL6d",
        "outputId": "71769386-8773-4141-fb29-a09e0c64f3de"
      },
      "source": [
        "numHrs = int(input(\"Num. de Hrs trabajadas: \"))\n",
        "valorHr = float(input(\"Valor por hr: \"))\n",
        "\n",
        "sueldo = numHrs*valorHr*30\n",
        "print(\"Sueldo: \", sueldo)"
      ],
      "execution_count": null,
      "outputs": [
        {
          "output_type": "stream",
          "text": [
            "Num. de Hrs trabajadas: 25\n",
            "Valor por hr: 1\n",
            "Sueldo:  750.0\n"
          ],
          "name": "stdout"
        }
      ]
    },
    {
      "cell_type": "code",
      "metadata": {
        "colab": {
          "base_uri": "https://localhost:8080/"
        },
        "id": "iVQc0N9wDU9W",
        "outputId": "7fc8238e-ed2d-424c-d424-a251d07c8591"
      },
      "source": [
        "def calcularSueldo(numHrs, valorHr):\n",
        "  hrsExtras = 0\n",
        "  if( numHrs>8 ):\n",
        "    hrsExtras = numHrs-8\n",
        "  sueldo = (8*valorHr + hrsExtras*valorHr*2)*30\n",
        "  return sueldo\n",
        "\n",
        "numHrs = int(input(\"Num. hrs trabajadas: \"))\n",
        "valorHr = float(input(\"Valor x hr: \"))\n",
        "print(\"Sueldo: \", str(calcularSueldo(numHrs, valorHr)))"
      ],
      "execution_count": null,
      "outputs": [
        {
          "output_type": "stream",
          "text": [
            "Num. hrs trabajadas: 10\n",
            "Valor x hr: 4.5\n",
            "Sueldo:  1620.0\n"
          ],
          "name": "stdout"
        }
      ]
    },
    {
      "cell_type": "code",
      "metadata": {
        "colab": {
          "base_uri": "https://localhost:8080/"
        },
        "id": "KQUAzxxIF7Xj",
        "outputId": "84ad0c0f-7c1b-42e4-bb88-004d169beb3d"
      },
      "source": [
        "prioridad = 7- 5*2 \n",
        "4/4*2\n",
        "print(\"el resultado es\", prioridad)"
      ],
      "execution_count": null,
      "outputs": [
        {
          "output_type": "stream",
          "text": [
            "el resultado es -3\n"
          ],
          "name": "stdout"
        }
      ]
    },
    {
      "cell_type": "code",
      "metadata": {
        "colab": {
          "base_uri": "https://localhost:8080/"
        },
        "id": "stKT3jSsGK9V",
        "outputId": "34ba51a9-eb67-4be0-abcb-ad38019810b7"
      },
      "source": [
        "prioridad = 7 - 5*2 - 4/(4*2) # 5*2=10   4/4=1   1*2=2   7-10-2= -5\n",
        "print(str(prioridad))"
      ],
      "execution_count": null,
      "outputs": [
        {
          "output_type": "stream",
          "text": [
            "-3.5\n"
          ],
          "name": "stdout"
        }
      ]
    },
    {
      "cell_type": "code",
      "metadata": {
        "colab": {
          "base_uri": "https://localhost:8080/"
        },
        "id": "3kczUlKKMzid",
        "outputId": "ff35e49a-3fa1-493b-be72-bc287ca3dba1"
      },
      "source": [
        "def convertirFC(c):\n",
        "  f = (c*9/5)+32\n",
        "  return f\n",
        " \n",
        "c = float(input(\"C: \"))\n",
        "print(\"C: \", str(c), \" a fahernheit: \", str( convertirFC(c) ))"
      ],
      "execution_count": null,
      "outputs": [
        {
          "output_type": "stream",
          "text": [
            "C: 10\n",
            "C:  10.0  a fahernheit:  50.0\n"
          ],
          "name": "stdout"
        }
      ]
    },
    {
      "cell_type": "code",
      "metadata": {
        "id": "CKqgcbKLuY1M"
      },
      "source": [
        ""
      ],
      "execution_count": null,
      "outputs": []
    },
    {
      "cell_type": "code",
      "metadata": {
        "colab": {
          "base_uri": "https://localhost:8080/"
        },
        "id": "cPg1JabQ9EuG",
        "outputId": "b0eacdd1-a4d1-4fa2-d8f2-9aaf9439386f"
      },
      "source": [
        "suma = lambda num1,num2:num1 + num2\n",
        "num1=float(input(\"Ingrese un numero: \"))\n",
        "num2=float(input(\"Ingrese un numero: \"))\n",
        "print(\"La suma es: \", suma(num1,num2))"
      ],
      "execution_count": null,
      "outputs": [
        {
          "output_type": "stream",
          "text": [
            "Ingrese un numero: 102.36\n",
            "Ingrese un numero: 12.3\n",
            "La suma es:  114.66\n"
          ],
          "name": "stdout"
        }
      ]
    },
    {
      "cell_type": "code",
      "metadata": {
        "id": "sQrsxrM_KzMA",
        "colab": {
          "base_uri": "https://localhost:8080/"
        },
        "outputId": "8df28006-72ca-4ed7-eba3-61d342946f22"
      },
      "source": [
        "num1=float(input(\"Ingrese un numero: \"))\n",
        "num2=float(input(\"Ingrese un numero: \"))\n",
        "\n",
        "resta = lambda num1,num2:num1 - num2\n",
        "\n",
        "print(\"La suma es: \", resta(num1,num2))"
      ],
      "execution_count": null,
      "outputs": [
        {
          "output_type": "stream",
          "text": [
            "Ingrese un numero: 4\n",
            "Ingrese un numero: 2\n",
            "La suma es:  2.0\n"
          ],
          "name": "stdout"
        }
      ]
    },
    {
      "cell_type": "code",
      "metadata": {
        "id": "7IMG7P-5-xyV",
        "colab": {
          "base_uri": "https://localhost:8080/"
        },
        "outputId": "9089e319-b7c3-4a55-8222-a5c2cf07062f"
      },
      "source": [
        "lista=[1,2,3]\n",
        "resp=list(map(lambda n:n*2, lista))\n",
        "print(resp)"
      ],
      "execution_count": null,
      "outputs": [
        {
          "output_type": "stream",
          "text": [
            "[2, 4, 6]\n"
          ],
          "name": "stdout"
        }
      ]
    },
    {
      "cell_type": "code",
      "metadata": {
        "colab": {
          "base_uri": "https://localhost:8080/"
        },
        "id": "Lfuxo8ofwhxw",
        "outputId": "19345058-f8b0-4458-972e-422c873e1e7f"
      },
      "source": [
        "me=[\"Luis Hernandez\",\"Usulutan\",503,\"22222222\",\"lusihernandez@ugb.edu.sv\",[4,[5,6,8],6]]\n",
        "print(me[0][0:4])"
      ],
      "execution_count": null,
      "outputs": [
        {
          "output_type": "stream",
          "text": [
            "Luis\n"
          ],
          "name": "stdout"
        }
      ]
    },
    {
      "cell_type": "code",
      "metadata": {
        "colab": {
          "base_uri": "https://localhost:8080/",
          "height": 197
        },
        "id": "6MHgK7qPFuCb",
        "outputId": "f1701ccc-eb27-49da-c6fa-ab72871b4b56"
      },
      "source": [
        "gf_depto = [85,58,105]\n",
        "c_depto=list (map(conversion, gf_depto))\n",
        "print(\"Los grados  F: \", gf_depto, \"en celsius es: \", c_depto)"
      ],
      "execution_count": null,
      "outputs": [
        {
          "output_type": "error",
          "ename": "NameError",
          "evalue": "ignored",
          "traceback": [
            "\u001b[0;31m---------------------------------------------------------------------------\u001b[0m",
            "\u001b[0;31mNameError\u001b[0m                                 Traceback (most recent call last)",
            "\u001b[0;32m<ipython-input-23-07f236359264>\u001b[0m in \u001b[0;36m<module>\u001b[0;34m()\u001b[0m\n\u001b[1;32m      1\u001b[0m \u001b[0mgf_depto\u001b[0m \u001b[0;34m=\u001b[0m \u001b[0;34m[\u001b[0m\u001b[0;36m85\u001b[0m\u001b[0;34m,\u001b[0m\u001b[0;36m58\u001b[0m\u001b[0;34m,\u001b[0m\u001b[0;36m105\u001b[0m\u001b[0;34m]\u001b[0m\u001b[0;34m\u001b[0m\u001b[0;34m\u001b[0m\u001b[0m\n\u001b[0;32m----> 2\u001b[0;31m \u001b[0mc_depto\u001b[0m\u001b[0;34m=\u001b[0m\u001b[0mlist\u001b[0m \u001b[0;34m(\u001b[0m\u001b[0mmap\u001b[0m\u001b[0;34m(\u001b[0m\u001b[0mconversion\u001b[0m\u001b[0;34m,\u001b[0m \u001b[0mgf_depto\u001b[0m\u001b[0;34m)\u001b[0m\u001b[0;34m)\u001b[0m\u001b[0;34m\u001b[0m\u001b[0;34m\u001b[0m\u001b[0m\n\u001b[0m\u001b[1;32m      3\u001b[0m \u001b[0mprint\u001b[0m\u001b[0;34m(\u001b[0m\u001b[0;34m\"Los grados  F: \"\u001b[0m\u001b[0;34m,\u001b[0m \u001b[0mgf_depto\u001b[0m\u001b[0;34m,\u001b[0m \u001b[0;34m\"en celsius es: \"\u001b[0m\u001b[0;34m,\u001b[0m \u001b[0mc_depto\u001b[0m\u001b[0;34m)\u001b[0m\u001b[0;34m\u001b[0m\u001b[0;34m\u001b[0m\u001b[0m\n",
            "\u001b[0;31mNameError\u001b[0m: name 'conversion' is not defined"
          ]
        }
      ]
    },
    {
      "cell_type": "code",
      "metadata": {
        "colab": {
          "base_uri": "https://localhost:8080/",
          "height": 180
        },
        "id": "Q0MIup_iG40r",
        "outputId": "3a2d9faf-2ec0-41bc-f4d7-2eacf0011404"
      },
      "source": [
        "resp = list(map(cubo, lista))\n",
        "print(\"la lista \", lista, \"el cubo es: \", resp)"
      ],
      "execution_count": null,
      "outputs": [
        {
          "output_type": "error",
          "ename": "NameError",
          "evalue": "ignored",
          "traceback": [
            "\u001b[0;31m---------------------------------------------------------------------------\u001b[0m",
            "\u001b[0;31mNameError\u001b[0m                                 Traceback (most recent call last)",
            "\u001b[0;32m<ipython-input-7-47c7b6addd1e>\u001b[0m in \u001b[0;36m<module>\u001b[0;34m()\u001b[0m\n\u001b[0;32m----> 1\u001b[0;31m \u001b[0mresp\u001b[0m \u001b[0;34m=\u001b[0m \u001b[0mlist\u001b[0m\u001b[0;34m(\u001b[0m\u001b[0mmap\u001b[0m\u001b[0;34m(\u001b[0m\u001b[0mcubo\u001b[0m\u001b[0;34m,\u001b[0m \u001b[0mlista\u001b[0m\u001b[0;34m)\u001b[0m\u001b[0;34m)\u001b[0m\u001b[0;34m\u001b[0m\u001b[0;34m\u001b[0m\u001b[0m\n\u001b[0m\u001b[1;32m      2\u001b[0m \u001b[0mprint\u001b[0m\u001b[0;34m(\u001b[0m\u001b[0;34m\"la lista \"\u001b[0m\u001b[0;34m,\u001b[0m \u001b[0mlista\u001b[0m\u001b[0;34m,\u001b[0m \u001b[0;34m\"el cubo es: \"\u001b[0m\u001b[0;34m,\u001b[0m \u001b[0mresp\u001b[0m\u001b[0;34m)\u001b[0m\u001b[0;34m\u001b[0m\u001b[0;34m\u001b[0m\u001b[0m\n",
            "\u001b[0;31mNameError\u001b[0m: name 'cubo' is not defined"
          ]
        }
      ]
    },
    {
      "cell_type": "code",
      "metadata": {
        "colab": {
          "base_uri": "https://localhost:8080/",
          "height": 180
        },
        "id": "O2HrixaQHjLK",
        "outputId": "fd2e17ef-e0ff-4ec9-b11f-6118c46bf1ec"
      },
      "source": [
        "resp=list(filter(lambda n:n>2,lista))\n",
        "print(\"los numeros <= 2 de la lista \", lista ,\"son: \", resp)"
      ],
      "execution_count": null,
      "outputs": [
        {
          "output_type": "error",
          "ename": "NameError",
          "evalue": "ignored",
          "traceback": [
            "\u001b[0;31m---------------------------------------------------------------------------\u001b[0m",
            "\u001b[0;31mNameError\u001b[0m                                 Traceback (most recent call last)",
            "\u001b[0;32m<ipython-input-6-4fb4746f97cc>\u001b[0m in \u001b[0;36m<module>\u001b[0;34m()\u001b[0m\n\u001b[0;32m----> 1\u001b[0;31m \u001b[0mresp\u001b[0m\u001b[0;34m=\u001b[0m\u001b[0mlist\u001b[0m\u001b[0;34m(\u001b[0m\u001b[0mfilter\u001b[0m\u001b[0;34m(\u001b[0m\u001b[0;32mlambda\u001b[0m \u001b[0mn\u001b[0m\u001b[0;34m:\u001b[0m\u001b[0mn\u001b[0m\u001b[0;34m>\u001b[0m\u001b[0;36m2\u001b[0m\u001b[0;34m,\u001b[0m\u001b[0mlista\u001b[0m\u001b[0;34m)\u001b[0m\u001b[0;34m)\u001b[0m\u001b[0;34m\u001b[0m\u001b[0;34m\u001b[0m\u001b[0m\n\u001b[0m\u001b[1;32m      2\u001b[0m \u001b[0mprint\u001b[0m\u001b[0;34m(\u001b[0m\u001b[0;34m\"los numeros <= 2 de la lista \"\u001b[0m\u001b[0;34m,\u001b[0m \u001b[0mlista\u001b[0m \u001b[0;34m,\u001b[0m\u001b[0;34m\"son: \"\u001b[0m\u001b[0;34m,\u001b[0m \u001b[0mresp\u001b[0m\u001b[0;34m)\u001b[0m\u001b[0;34m\u001b[0m\u001b[0;34m\u001b[0m\u001b[0m\n",
            "\u001b[0;31mNameError\u001b[0m: name 'lista' is not defined"
          ]
        }
      ]
    },
    {
      "cell_type": "code",
      "metadata": {
        "colab": {
          "base_uri": "https://localhost:8080/"
        },
        "id": "2aLOojJwIUFa",
        "outputId": "a1219b39-f156-49fd-a3be-c07e0b4626ee"
      },
      "source": [
        "resp = list(filter(lambda n:n%2==0, lista))\n",
        "print (\"los numeros pares de la lista\", lista ,\"son \", resp)"
      ],
      "execution_count": null,
      "outputs": [
        {
          "output_type": "stream",
          "text": [
            "los numeros pares de la lista [1, 2, 3] son  [2]\n"
          ],
          "name": "stdout"
        }
      ]
    },
    {
      "cell_type": "code",
      "metadata": {
        "colab": {
          "base_uri": "https://localhost:8080/"
        },
        "id": "Sq6JL0X4I-Qp",
        "outputId": "3f946c5d-2597-4971-e698-5e0490afefca"
      },
      "source": [
        "resp = list(filter(lambda n:n%2!=0, lista))\n",
        "print(\"los numeros impares de la lista \", lista, \"son \",resp )"
      ],
      "execution_count": null,
      "outputs": [
        {
          "output_type": "stream",
          "text": [
            "los numeros impares de la lista  [1, 2, 3] son  [1, 3]\n"
          ],
          "name": "stdout"
        }
      ]
    },
    {
      "cell_type": "code",
      "metadata": {
        "colab": {
          "base_uri": "https://localhost:8080/"
        },
        "id": "qN5qwXLrMvUv",
        "outputId": "b725fa76-1666-4f99-fa8f-f2fba97a2b5e"
      },
      "source": [
        "from functools import reduce\n",
        "resp=reduce(lambda x,y:x+y, lista)\n",
        "print (\"la suma de la lista \", lista,\"La media es \", resp/len(lista))"
      ],
      "execution_count": null,
      "outputs": [
        {
          "output_type": "stream",
          "text": [
            "la suma de la lista  [1, 2, 3] La media es  2.0\n"
          ],
          "name": "stdout"
        }
      ]
    },
    {
      "cell_type": "code",
      "metadata": {
        "colab": {
          "base_uri": "https://localhost:8080/"
        },
        "id": "JOsAZR0VG7pD",
        "outputId": "01279d47-5868-4e59-99d3-7629276f113a"
      },
      "source": [
        "tupla=(1,2,3)\n",
        "print(tupla, tupla[0],)"
      ],
      "execution_count": null,
      "outputs": [
        {
          "output_type": "stream",
          "text": [
            "(1, 2, 3) 1\n"
          ],
          "name": "stdout"
        }
      ]
    },
    {
      "cell_type": "code",
      "metadata": {
        "colab": {
          "base_uri": "https://localhost:8080/"
        },
        "id": "tu5PrJfzPHLQ",
        "outputId": "b782e1a6-c613-4148-def6-d7e695938ab0"
      },
      "source": [
        "persona=(\"USIS017320\", \"Kevin Campos\",\"Jiquilisco\",\"74806918\",\"camposk697@gmail.com\",2020 )\n",
        "print(persona)"
      ],
      "execution_count": null,
      "outputs": [
        {
          "output_type": "stream",
          "text": [
            "('USIS017320', 'Kevin Campos', 'Jiquilisco', '74806918', 'camposk697@gmail.com', 2020)\n"
          ],
          "name": "stdout"
        }
      ]
    },
    {
      "cell_type": "code",
      "metadata": {
        "colab": {
          "base_uri": "https://localhost:8080/"
        },
        "id": "1vKdkQwCP9Kf",
        "outputId": "c8c963d1-8643-417c-9ad5-a66440e177d1"
      },
      "source": [
        "nombre=\"Kevin Campos\"\n",
        "print(nombre[0:5],nombre.count(\"c\"))"
      ],
      "execution_count": null,
      "outputs": [
        {
          "output_type": "stream",
          "text": [
            "Kevin  0\n"
          ],
          "name": "stdout"
        }
      ]
    },
    {
      "cell_type": "code",
      "metadata": {
        "colab": {
          "base_uri": "https://localhost:8080/"
        },
        "id": "jfxE5mr7SBZf",
        "outputId": "661ffcab-5df0-4dd7-cb2d-1d49145d9399"
      },
      "source": [
        "person=[\"USIS017320\",\"Kevin Anibal Campos\",\"Jiquilisco\",2020]\n",
        "print(person)\n",
        "person[3]=2017\n",
        "person.append(\"Phython\")\n",
        "lenguaje=person.pop()\n",
        "print(person, lenguaje)"
      ],
      "execution_count": null,
      "outputs": [
        {
          "output_type": "stream",
          "text": [
            "['USIS017320', 'Kevin Anibal Campos', 'Jiquilisco', 2020]\n",
            "['USIS017320', 'Kevin Anibal Campos', 'Jiquilisco', 2017] Phython\n"
          ],
          "name": "stdout"
        }
      ]
    },
    {
      "cell_type": "code",
      "metadata": {
        "colab": {
          "base_uri": "https://localhost:8080/"
        },
        "id": "A0nr6wxhVBYu",
        "outputId": "d5a11cb5-4824-4f53-c044-0712e95bf105"
      },
      "source": [
        "numerosE=[1,5,2,8,7]\n",
        "numOrde=sorted(numerosE,reverse=True)\n",
        "numRever= list(reversed(numerosE))\n",
        "print(\"Lista ordenada: \", numerosE, \"Lista ordenada: \", numOrde , \"Numeros al reves\", numRever)"
      ],
      "execution_count": null,
      "outputs": [
        {
          "output_type": "stream",
          "text": [
            "Lista ordenada:  [1, 5, 2, 8, 7] Lista ordenada:  [8, 7, 5, 2, 1] Numeros al reves [7, 8, 2, 5, 1]\n"
          ],
          "name": "stdout"
        }
      ]
    },
    {
      "cell_type": "code",
      "metadata": {
        "colab": {
          "base_uri": "https://localhost:8080/"
        },
        "id": "9k4YK4YY-SLB",
        "outputId": "8daae617-e8b6-4071-aa86-0f85ce199fb7"
      },
      "source": [
        "import os\n",
        "os.system('cls')\n",
        "\n",
        "from datetime import date\n",
        "\n",
        "a = int(input(\"Ingrese su año de nacimiento: \"))\n",
        "b = int(input(\"Ingrese su mes de nacimiento: \"))\n",
        "c = int(input(\"Ingrese su dia de nacimiento: \"))\n",
        "\n",
        "def cal_edad(fecha_naci):\n",
        "  hoy = date.today()\n",
        "  result = hoy.year - fecha_naci.year\n",
        "  result = ((hoy.month, hoy.day) < (fecha_naci.month, fecha_naci.day))\n",
        "  return result\n",
        "\n",
        "nacio = date(a, b, c)\n",
        "edad = cal_edad(nacio)\n",
        "\n",
        "print(\"Su edad es \", edad, \"años\")"
      ],
      "execution_count": null,
      "outputs": [
        {
          "output_type": "stream",
          "text": [
            "Ingrese su año de nacimiento: 1999\n",
            "Ingrese su mes de nacimiento: 11\n",
            "Ingrese su dia de nacimiento: 11\n",
            "Su edad es  True años\n"
          ],
          "name": "stdout"
        }
      ]
    },
    {
      "cell_type": "code",
      "metadata": {
        "colab": {
          "base_uri": "https://localhost:8080/"
        },
        "id": "575UccQN_vAA",
        "outputId": "7adc9cef-e19f-49ff-8508-7fcbf867b675"
      },
      "source": [
        "me=[\"USIS017320\", \"Kevin Campos\", \"Jiquilisco\", 503,\"74806918\", \"camposk697@gmail.com\",[\"Pragra I \", \"Progra II\",[5,8,9,2],\"Prgra III\"]]\n",
        "print(me[0][0:4],me[6][2][2], me[6][3][0:6]) "
      ],
      "execution_count": null,
      "outputs": [
        {
          "output_type": "stream",
          "text": [
            "USIS 9 Prgra \n"
          ],
          "name": "stdout"
        }
      ]
    },
    {
      "cell_type": "code",
      "metadata": {
        "colab": {
          "base_uri": "https://localhost:8080/"
        },
        "id": "g8kXgTliCxKB",
        "outputId": "84f0fb91-fa62-4eb1-dd10-e9f4cd7a1e8e"
      },
      "source": [
        "matriz = [\n",
        "          [1,2,3],#0\n",
        "          [3,7,6],#1\n",
        "          [7,2,5]#2\n",
        "]\n",
        "print(matriz)"
      ],
      "execution_count": null,
      "outputs": [
        {
          "output_type": "stream",
          "text": [
            "[[1, 2, 3], [3, 7, 6], [7, 2, 5]]\n"
          ],
          "name": "stdout"
        }
      ]
    },
    {
      "cell_type": "code",
      "metadata": {
        "colab": {
          "base_uri": "https://localhost:8080/"
        },
        "id": "UwyBEroLElCa",
        "outputId": "e7f887e1-65db-4aeb-eab1-55e3d126035b"
      },
      "source": [
        "lenguaje={\"Progra\":\"VB\",\"PrograII\":\"java\",\"PrograIII\":\"phyton\"}\n",
        "print(lenguaje[\"PrograII\"])"
      ],
      "execution_count": null,
      "outputs": [
        {
          "output_type": "stream",
          "text": [
            "java\n"
          ],
          "name": "stdout"
        }
      ]
    },
    {
      "cell_type": "code",
      "metadata": {
        "id": "s5ah3yiTF7Pq",
        "colab": {
          "base_uri": "https://localhost:8080/"
        },
        "outputId": "48966497-ff7f-4c1c-d824-cedadc80d5d8"
      },
      "source": [
        "edad = int(input(\"Edad: \"))\n",
        "print(edad)\n"
      ],
      "execution_count": null,
      "outputs": [
        {
          "output_type": "stream",
          "text": [
            "Edad: 12\n",
            "12\n"
          ],
          "name": "stdout"
        }
      ]
    },
    {
      "cell_type": "code",
      "metadata": {
        "colab": {
          "base_uri": "https://localhost:8080/"
        },
        "id": "5YptWW90u7Pg",
        "outputId": "bbb23516-8e20-4339-faef-96d111f77216"
      },
      "source": [
        "cuadrado = lambda n:n**2\n",
        "n = int(input(\"N: \"))\n",
        "print(\"N: \", n, \" al cuadrado es: \", cuadrado(n))"
      ],
      "execution_count": null,
      "outputs": [
        {
          "output_type": "stream",
          "text": [
            "N: 2\n",
            "N:  2  al cuadrado es:  4\n"
          ],
          "name": "stdout"
        }
      ]
    },
    {
      "cell_type": "code",
      "metadata": {
        "colab": {
          "base_uri": "https://localhost:8080/"
        },
        "id": "TPFdjaTVZW62",
        "outputId": "20d7f5c2-3a33-4947-9dfa-9776fdde8c45"
      },
      "source": [
        "n = int(input(\"Tabla: \"))\n",
        "i=1\n",
        "while i<=10:\n",
        "  print(n,\"X\",i,\"=\",n*i)\n",
        "  i+=1"
      ],
      "execution_count": null,
      "outputs": [
        {
          "output_type": "stream",
          "text": [
            "Tabla: 10\n",
            "10 X 1 = 10\n",
            "10 X 2 = 20\n",
            "10 X 3 = 30\n",
            "10 X 4 = 40\n",
            "10 X 5 = 50\n",
            "10 X 6 = 60\n",
            "10 X 7 = 70\n",
            "10 X 8 = 80\n",
            "10 X 9 = 90\n",
            "10 X 10 = 100\n"
          ],
          "name": "stdout"
        }
      ]
    },
    {
      "cell_type": "code",
      "metadata": {
        "colab": {
          "base_uri": "https://localhost:8080/"
        },
        "id": "WBlN1YiHxtRZ",
        "outputId": "69e4c3a8-19a3-4ab6-9fe5-f6699dbc39db"
      },
      "source": [
        "lista=[1,2,3,5,2]\n",
        "resp=list(map(lambda n:n*2,lista))\n",
        "print(resp)"
      ],
      "execution_count": null,
      "outputs": [
        {
          "output_type": "stream",
          "text": [
            "[2, 4, 6, 10, 4]\n"
          ],
          "name": "stdout"
        }
      ]
    },
    {
      "cell_type": "code",
      "metadata": {
        "colab": {
          "base_uri": "https://localhost:8080/"
        },
        "id": "3iXfHd2K2Xju",
        "outputId": "2d089d0d-1866-43b3-8f26-f06d240cd10f"
      },
      "source": [
        "me = [\"Luis Hernandez\", \"Usulutan\", 503, \"2222-2222\", \"luishernandez@ugb.edu.sv\", [4,[5,6,8],6] ]\n",
        "print( me[0][0:4] )"
      ],
      "execution_count": null,
      "outputs": [
        {
          "output_type": "stream",
          "text": [
            "Luis\n"
          ],
          "name": "stdout"
        }
      ]
    },
    {
      "cell_type": "code",
      "metadata": {
        "colab": {
          "base_uri": "https://localhost:8080/"
        },
        "id": "yT4MVuNA3Z0I",
        "outputId": "664cbc43-7157-4a11-967e-4df1591daae8"
      },
      "source": [
        "lista = [1,2,3,5, 2]\n",
        "resp = list(map(lambda n:n*2, lista))\n",
        "print( resp )"
      ],
      "execution_count": null,
      "outputs": [
        {
          "output_type": "stream",
          "text": [
            "[2, 4, 6, 10, 4]\n"
          ],
          "name": "stdout"
        }
      ]
    },
    {
      "cell_type": "code",
      "metadata": {
        "id": "USohztTGH4-I",
        "colab": {
          "base_uri": "https://localhost:8080/"
        },
        "outputId": "b3fe69c6-9bcc-4464-ce6d-48aec90766b9"
      },
      "source": [
        "sueldo = float(input(\"Sueldo: \"))\n",
        "isss = sueldo*0.03\n",
        "afp = sueldo*0.0625\n",
        "sueldoNeto = sueldo-(isss+afp)\n",
        "impSr = 0\n",
        "\n",
        "tablaIsr = [\n",
        "            [0.01,472,0,0],\n",
        "            [472.01,895.24,0.1,17.67],\n",
        "            [895.25, 2038.10, 0.2, 60],\n",
        "            [2038.11,99999,0.30,288.57]\n",
        "]\n",
        "\n",
        "\n",
        "for isr in tablaIsr:\n",
        "  if sueldoNeto>isr[0] and sueldoNeto<=isr[1]:\n",
        "    impSr=(sueldoNeto-isr[0])*isr[2] + isr[3]\n",
        "print(\"Total deducciones\", (isss+afp+impSr), \"Sueldo Neto: \", sueldoNeto-impSr)"
      ],
      "execution_count": null,
      "outputs": [
        {
          "output_type": "stream",
          "text": [
            "Sueldo: 250\n",
            "Total deducciones 23.125 Sueldo Neto:  226.875\n"
          ],
          "name": "stdout"
        }
      ]
    },
    {
      "cell_type": "code",
      "metadata": {
        "colab": {
          "base_uri": "https://localhost:8080/"
        },
        "id": "ArsOCHldWPBp",
        "outputId": "f98ca819-4e53-42ae-af2e-b051d86710c7"
      },
      "source": [
        "valores = [\n",
        "           [],\n",
        "           [0, 1, 0.85, 23.8, 35.11, 7.74, 8.75, 621.61], #monedas\n",
        "           [],                                         #Longitud\n",
        "           [],                                         #Masa\n",
        "]\n",
        "etiquetas = [\n",
        "           [],\n",
        "           [\"1. Dolar\", \"2. Euro\", \"3. Lempira\",\"4. Cordobas\", \"5. Quetzalez\", \"6. Colon SV\", \"7. Colon CR\"],\n",
        "           []\n",
        "]\n",
        "def convertir(conversor, de, a, cantidad):\n",
        "  return valores[conversor][a]/valores[conversor][de] * cantidad\n",
        "\n",
        "print(\"*** MENU ***\")\n",
        "print(\"* 1. Monedas\")\n",
        "print(\"* 2. Longitud\")\n",
        "print(\"* 3. Masa\")\n",
        "conversor = int(input(\"Conversor: \"))\n",
        "\n",
        "print( etiquetas[conversor] )\n",
        "\n",
        "de = int(input(\"DE: \"))\n",
        "a = int(input(\"A: \"))\n",
        "cantidad = float(input(\"Cant: \"))\n",
        "\n",
        "print(\"Respuesta: \", convertir(conversor, de, a, cantidad) )"
      ],
      "execution_count": null,
      "outputs": [
        {
          "output_type": "stream",
          "text": [
            "*** MENU ***\n",
            "* 1. Monedas\n",
            "* 2. Longitud\n",
            "* 3. Masa\n",
            "Conversor: 1\n",
            "['1. Dolar', '2. Euro', '3. Lempira', '4. Cordobas', '5. Quetzalez', '6. Colon SV', '7. Colon CR']\n",
            "DE: 1\n",
            "A: 2\n",
            "Cant: 1\n",
            "Respuesta:  0.85\n"
          ],
          "name": "stdout"
        }
      ]
    },
    {
      "cell_type": "markdown",
      "metadata": {
        "id": "oIX0DW5gPvnu"
      },
      "source": [
        "SEGUNDO CICLO \n"
      ]
    },
    {
      "cell_type": "code",
      "metadata": {
        "id": "_3oiBq25P079",
        "colab": {
          "base_uri": "https://localhost:8080/"
        },
        "outputId": "422d5256-5991-4217-9195-814b88e4f648"
      },
      "source": [
        "print (\"Hola Kevin\")"
      ],
      "execution_count": null,
      "outputs": [
        {
          "output_type": "stream",
          "name": "stdout",
          "text": [
            "Hola Kevin\n"
          ]
        }
      ]
    },
    {
      "cell_type": "code",
      "metadata": {
        "id": "CQwp0Eava7SW"
      },
      "source": [
        "from google.colab import drive\n",
        "drive.mount('/content/drive')"
      ],
      "execution_count": null,
      "outputs": []
    },
    {
      "cell_type": "code",
      "metadata": {
        "colab": {
          "base_uri": "https://localhost:8080/"
        },
        "id": "up3p3uYsSFXP",
        "outputId": "44988236-4b10-4f72-fcd6-7b6a935a359e"
      },
      "source": [
        "import pandas as pd \n",
        "leguajes = pd.Series([\n",
        "                      \"C#\",\n",
        "                      \"Vb\",\n",
        "                      \"PHP\",\n",
        "                      \"HTML\",\n",
        "                      \"JS\",\n",
        "                      \"CS5\",\n",
        "                      \"JAVA\",\n",
        "                      \"XML\",\n",
        "                      \"Phyton\"\n",
        "],index=[2,1,4,5,6,9,3,8,10])\n",
        "\n",
        "print (leguajes, leguajes[5])\n",
        "print(\"______________________________________________________________________________________\")\n",
        "diccionarioLenguaje= {\n",
        "    2:\"C#\",\n",
        "    1:\"VB\",\n",
        "    4:\"PHP\",\n",
        "    5:\"HTML\",\n",
        "    6:\"JS\",\n",
        "    9:\"CSS\",\n",
        "    3:\"JAVA\",\n",
        "    8:\"XML\",\n",
        "    10:\"Phyton\",\n",
        "\n",
        "}\n",
        "pdLenguajes = pd.Series(diccionarioLenguaje)\n",
        "print(pdLenguajes)\n",
        "\n"
      ],
      "execution_count": null,
      "outputs": [
        {
          "output_type": "stream",
          "name": "stdout",
          "text": [
            "2         C#\n",
            "1         Vb\n",
            "4        PHP\n",
            "5       HTML\n",
            "6         JS\n",
            "9        CS5\n",
            "3       JAVA\n",
            "8        XML\n",
            "10    Phyton\n",
            "dtype: object HTML\n",
            "______________________________________________________________________________________\n",
            "2         C#\n",
            "1         VB\n",
            "4        PHP\n",
            "5       HTML\n",
            "6         JS\n",
            "9        CSS\n",
            "3       JAVA\n",
            "8        XML\n",
            "10    Phyton\n",
            "dtype: object\n"
          ]
        }
      ]
    },
    {
      "cell_type": "code",
      "metadata": {
        "colab": {
          "base_uri": "https://localhost:8080/",
          "height": 350
        },
        "id": "xqeYrCh2brsu",
        "outputId": "b1847cf5-7d3c-4029-8d16-7a7033f803ad"
      },
      "source": [
        "import pandas as pd \n",
        "import matplotlib.pyplot as plt \n",
        "\n",
        "archivo = pd.read_csv(\"/content/notas.csv\", sep=\";\", encoding=\"utf-8\")\n",
        "#print(archivo)\n",
        "\n",
        "proceso = pd.crosstab(index = archivo[\"notas\"],columns=\"frecuencia\")\n",
        "print(proceso)\n",
        "\n",
        "#sobresalientes = proceso.loc[proceso.index>=5][\"frecuencia\"]\n",
        "#print(sobresalientes)\n",
        "\n",
        "plt.pie(sobresalientes, labels=sobresalientes.index)\n",
        "#plt.xlabel(\"Estudiantes que pasaron\")\n",
        "#plt.show()\n",
        "\n",
        "grupoNotas = archivo.groupby([\"notas\"]).agg({\"sum\"})\n",
        "#print(grupoNotas)\n",
        "#grupoNotas.to_csv(\"/content/grupoNotas.csv\", sep=\";\")\n",
        "\n"
      ],
      "execution_count": null,
      "outputs": [
        {
          "output_type": "stream",
          "name": "stdout",
          "text": [
            "col_0  frecuencia\n",
            "notas            \n",
            "4               1\n",
            "5               1\n",
            "8               2\n",
            "10              1\n"
          ]
        },
        {
          "output_type": "display_data",
          "data": {
            "image/png": "[encoded data removed]",
            "text/plain": [
              "<Figure size 432x288 with 1 Axes>"
            ]
          },
          "metadata": {}
        }
      ]
    },
    {
      "cell_type": "code",
      "metadata": {
        "colab": {
          "base_uri": "https://localhost:8080/"
        },
        "id": "O31qv-C2gZBd",
        "outputId": "dae2bd72-96c5-496a-b44f-03de019d0b09"
      },
      "source": [
        "import pandas as pd \n",
        "import matplotlib.pyplot as plt \n",
        "\n",
        "usuarios = pd.read_csv(\"/content/usuario.csv\", sep=\";\")\n",
        "#print(usuarios[\"pais\"])\n",
        "\n",
        "peliculas = pd.read_csv(\"/content/peliculas.csv\", sep=\";\")\n",
        "#print(peliculas)\n",
        "\n",
        "usuario_peli = pd.read_csv(\"/content/usuario_peliculas.csv\", sep=\";\")\n",
        "#print(usuario)\n",
        "\n",
        "usuarioPelicula = pd.merge(pd.merge(usuarios,usuario_peli),peliculas, on =\"idPeliculas\")\n",
        "print(usuarioPelicula)"
      ],
      "execution_count": null,
      "outputs": [
        {
          "output_type": "stream",
          "name": "stdout",
          "text": [
            "   idUsuario    nombre genero_x  ...        categoria duracion  genero_y\n",
            "0          1    Manuel        M  ...          comedio       120        A\n",
            "1          2   Willian        M  ...           accion       120        C\n",
            "2          2   Willian        M  ...  entretenimiento        90        A\n",
            "3          3  Jonathan        M  ...           terror       130        D\n",
            "4          4    Blanca        F  ...          ficcion       100        B\n",
            "5          5    Jimena        F  ...          comedia       120        B\n",
            "6          5    Jimena        F  ...          comedia        90        B\n",
            "7          6    Carlos        M  ...          Romance       180        B\n",
            "\n",
            "[8 rows x 13 columns]\n"
          ]
        }
      ]
    },
    {
      "cell_type": "markdown",
      "metadata": {
        "id": "hOToMxsyDaZC"
      },
      "source": [
        "PRACTICA APARTE\n"
      ]
    },
    {
      "cell_type": "code",
      "metadata": {
        "colab": {
          "base_uri": "https://localhost:8080/",
          "height": 265
        },
        "id": "1KNbB0woDdXp",
        "outputId": "5e6cbc94-5b86-4aba-c8fc-78186a082fa6"
      },
      "source": [
        "import matplotlib.pyplot as plt \n",
        "\n",
        "x = [2017, 2018, 2019, 2020, 2021, 2022]\n",
        "y = [12, 46, 47, 49, 60, 20]\n",
        "\n",
        "plt.plot(x,y)\n",
        "plt.show()\n",
        "\n",
        " \n"
      ],
      "execution_count": null,
      "outputs": [
        {
          "output_type": "display_data",
          "data": {
            "image/png": "[encoded data removed]",
            "text/plain": [
              "<Figure size 432x288 with 1 Axes>"
            ]
          },
          "metadata": {
            "needs_background": "light"
          }
        }
      ]
    },
    {
      "cell_type": "code",
      "metadata": {
        "colab": {
          "base_uri": "https://localhost:8080/"
        },
        "id": "dOctHtRGFMtQ",
        "outputId": "56511d36-3815-46d0-a924-e5bedd1c4329"
      },
      "source": [
        "import pandas as pd\n",
        " \n",
        "s = pd.Series(['Matemáticas', 'Historia', 'Economía', 'Programación', 'Inglés'], dtype='string')\n",
        "print(s)\n",
        "print(\"________________________________________________________________________________________\")\n",
        "s = pd.Series({'Matemáticas': 6.0,  'Economía': 4.5, 'Programación': 8.5})\n",
        "print(s)\n",
        "\n",
        "\n"
      ],
      "execution_count": null,
      "outputs": [
        {
          "output_type": "stream",
          "name": "stdout",
          "text": [
            "0     Matemáticas\n",
            "1        Historia\n",
            "2        Economía\n",
            "3    Programación\n",
            "4          Inglés\n",
            "dtype: string\n",
            "________________________________________________________________________________________\n",
            "Matemáticas     6.0\n",
            "Economía        4.5\n",
            "Programación    8.5\n",
            "dtype: float64\n"
          ]
        }
      ]
    },
    {
      "cell_type": "markdown",
      "metadata": {
        "id": "vLBlAByGb5kM"
      },
      "source": [
        "USO DE TENSORFLOW\n"
      ]
    },
    {
      "cell_type": "code",
      "metadata": {
        "colab": {
          "base_uri": "https://localhost:8080/"
        },
        "id": "6J7AKZt-cHGb",
        "outputId": "17036a98-3eb5-4329-c5c0-4c6cce1caf27"
      },
      "source": [
        "import tensorflow as tf\n",
        "\n",
        "resp = tf.add(5,2).numpy()\n",
        "\n",
        "print(resp)"
      ],
      "execution_count": 7,
      "outputs": [
        {
          "output_type": "stream",
          "name": "stdout",
          "text": [
            "7\n"
          ]
        }
      ]
    }
  ]
}